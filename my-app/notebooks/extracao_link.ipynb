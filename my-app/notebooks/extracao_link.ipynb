{
 "cells": [
  {
   "cell_type": "markdown",
   "metadata": {},
   "source": [
    "# Scrap Para Extrair Informações"
   ]
  },
  {
   "cell_type": "code",
   "execution_count": 38,
   "metadata": {},
   "outputs": [],
   "source": [
    "import pandas as pd\n",
    "import requests\n",
    "from lxml.cssselect import CSSSelector as sel \n",
    "from bs4 import BeautifulSoup as bs\n",
    "import os\n",
    "import zipfile"
   ]
  },
  {
   "cell_type": "markdown",
   "metadata": {},
   "source": [
    "## Scrap para obter links dos zips"
   ]
  },
  {
   "cell_type": "code",
   "execution_count": 22,
   "metadata": {},
   "outputs": [],
   "source": [
    "links_zips = []\n",
    "\n",
    "url = 'https://www.gov.br/inep/pt-br/acesso-a-informacao/dados-abertos/microdados/enem'\n",
    "answer = requests.get(url)\n",
    "if answer.status_code == 200:\n",
    "    soup = bs(answer.text, 'html.parser')\n",
    "    tag_a_cru = soup.select('a[href^=\"https://download.inep.gov.br/microdados\"]') \n",
    "    for tag in tag_a_cru:\n",
    "        links_zips.append({\n",
    "            'nome': tag.text[:23],\n",
    "            'url_zip': tag['href']    \n",
    "        })\n",
    "    #Salvando Dados dos Links\n",
    "    df_links_microdados = pd.DataFrame(links_zips)\n",
    "    df_links_microdados.to_csv('../data/raw/links_microdados.csv', index=False)\n",
    "else:\n",
    "    print(f'Erro ao acessar a página do INEP. Status Code: {answer.status_code}')"
   ]
  },
  {
   "cell_type": "markdown",
   "metadata": {},
   "source": [
    "## Baixando arquivo"
   ]
  },
  {
   "cell_type": "code",
   "execution_count": 51,
   "metadata": {},
   "outputs": [
    {
     "name": "stdout",
     "output_type": "stream",
     "text": [
      "Nome do arquivos disponíves para baixar:\n",
      " ['Microdados do Enem 2023' 'Microdados do Enem 2022'\n",
      " 'Microdados do Enem 2021' 'Microdados do Enem 2020'\n",
      " 'Microdados do Enem 2019' 'Microdados do Enem 2018'\n",
      " 'Microdados do Enem 2017' 'Microdados do Enem 2016'\n",
      " 'Microdados do Enem 2015' 'Microdados do Enem 2014'\n",
      " 'Microdados do Enem 2013' 'Microdados do Enem 2012'\n",
      " 'Microdados do Enem 2011' 'Microdados do Enem 2010'\n",
      " 'Microdados do Enem 2009' 'Microdados do Enem 2008'\n",
      " 'Microdados do Enem 2007' 'Microdados do Enem 2006'\n",
      " 'Microdados do Enem 2005' 'Microdados do Enem 2004'\n",
      " 'Microdados do Enem 2003' 'Microdados do Enem 2002'\n",
      " 'Microdados do Enem 2001' 'Microdados do Enem 2000'\n",
      " 'Microdados do Enem 1999' 'Microdados do Enem 1998']\n"
     ]
    }
   ],
   "source": [
    "print(f'Nome do arquivos disponíves para baixar:\\n {df_links_microdados['nome'].values}')"
   ]
  },
  {
   "cell_type": "code",
   "execution_count": 30,
   "metadata": {
    "vscode": {
     "languageId": "ruby"
    }
   },
   "outputs": [
    {
     "name": "stdout",
     "output_type": "stream",
     "text": [
      "Arquivo Microdados do Enem 2023 baixado com sucesso!\n"
     ]
    }
   ],
   "source": [
    "#Baixando os arquivos\n",
    "directory = '../data/zip/'\n",
    "name_arq = 'Microdados do Enem 2023' #Coloque aqui o nome do arquivo que deseja baixar. Lembre-se que os arquivos são grandes e pode demorar para baixar\n",
    "\n",
    "if name_arq in df_links_microdados['nome'].values:\n",
    "    url_down = df_links_microdados[df_links_microdados['nome'] == name_arq]['url_zip'].values[0]\n",
    "    response = requests.get(url_down)\n",
    "    if response.status_code == 200:\n",
    "        arq_path = os.path.join(directory, os.path.basename(url_down))\n",
    "        with open(arq_path, 'wb') as f:\n",
    "            f.write(response.content)\n",
    "        print(f'Arquivo {name_arq} baixado com sucesso!')\n",
    "\n"
   ]
  },
  {
   "cell_type": "markdown",
   "metadata": {},
   "source": [
    "## Tirando O Arquivo do ZIP Baixado"
   ]
  },
  {
   "cell_type": "code",
   "execution_count": 49,
   "metadata": {
    "vscode": {
     "languageId": "ruby"
    }
   },
   "outputs": [
    {
     "name": "stdout",
     "output_type": "stream",
     "text": [
      "Nome do arquivo: DADOS/ITENS_PROVA_2023.csv\n",
      "Nome do arquivo: DADOS/MICRODADOS_ENEM_2023.csv\n"
     ]
    }
   ],
   "source": [
    "#Código para exibir as opções de arquivos . csv que estão dentro do arquivo zip\n",
    "#Insira em directory_zip o caminho do arquivo zip que deseja verificar\n",
    "directory_zip = '../data/zip/microdados_enem_2023.zip'\n",
    "\n",
    "with zipfile.ZipFile(directory_zip, 'r') as zip_ref:\n",
    "    for file in zip_ref.namelist():\n",
    "        if file.endswith('.csv'):\n",
    "            print(f'Nome do arquivo: {file}')\n",
    "\n",
    "    #zip_ref.extractall(directory_csv_raw)"
   ]
  },
  {
   "cell_type": "code",
   "execution_count": 54,
   "metadata": {
    "vscode": {
     "languageId": "ruby"
    }
   },
   "outputs": [],
   "source": [
    "path_destiny = '../data/raw/MICRODADOS_ENEM_2023.csv' #Insira o caminho onde deseja salvar o arquivo .csv e o nome dele\n",
    "file_to_extract = 'DADOS/MICRODADOS_ENEM_2023.csv' #Coloque aqui o arquivo de microdados que obteve no passo anterior\n",
    "#Código para descompactar o arquivo zip\n",
    "with zipfile.ZipFile(directory_zip, 'r') as zip_ref:\n",
    "    with zip_ref.open(file_to_extract) as file, open(path_destiny, 'wb') as target:\n",
    "        target.write(file.read())\n"
   ]
  },
  {
   "cell_type": "markdown",
   "metadata": {},
   "source": [
    "Não criei um código que já baixa todos os zips, porque os microdados são gigantes, por exemplo, o arquivo de  que será usado neste trabalho possui mais de 3 milhões de linhas"
   ]
  },
  {
   "cell_type": "markdown",
   "metadata": {},
   "source": [
    "# TITULO PRINCIPAL"
   ]
  },
  {
   "cell_type": "markdown",
   "metadata": {},
   "source": [
    "## PRÉ-PROCESSAMENTO"
   ]
  },
  {
   "cell_type": "code",
   "execution_count": null,
   "metadata": {
    "vscode": {
     "languageId": "ruby"
    }
   },
   "outputs": [],
   "source": [
    "import pandas as pd\n",
    "\n",
    "#Código para carregar o arquivo .csv\n",
    "df = pd.read_csv(path_destiny, sep=';', encoding='latin1')\n",
    "\n",
    "#Código para exibir as primeiras linhas do arquivo .csv\n",
    "\n"
   ]
  }
 ],
 "metadata": {
  "kernelspec": {
   "display_name": "3.12.4",
   "language": "python",
   "name": "python3"
  },
  "language_info": {
   "codemirror_mode": {
    "name": "ipython",
    "version": 3
   },
   "file_extension": ".py",
   "mimetype": "text/x-python",
   "name": "python",
   "nbconvert_exporter": "python",
   "pygments_lexer": "ipython3",
   "version": "3.12.4"
  }
 },
 "nbformat": 4,
 "nbformat_minor": 2
}
