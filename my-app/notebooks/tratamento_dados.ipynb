{
 "cells": [
  {
   "cell_type": "code",
   "execution_count": 2,
   "metadata": {},
   "outputs": [],
   "source": [
    "import pandas as pd"
   ]
  },
  {
   "cell_type": "code",
   "execution_count": null,
   "metadata": {},
   "outputs": [],
   "source": [
    "# Carregar o arquivo CSV\n",
    "df_enem = pd.read_csv(\"../data/raw/MICRODADOS_ENEM_2023.csv\", sep=\";\",encoding='ANSI')"
   ]
  },
  {
   "cell_type": "code",
   "execution_count": null,
   "metadata": {},
   "outputs": [],
   "source": [
    "# Salvar o DataFrame no formato Parquet\n",
    "df_enem.to_parquet(\"../data/treated/df_enem.parquet\")"
   ]
  },
  {
   "cell_type": "code",
   "execution_count": 3,
   "metadata": {},
   "outputs": [],
   "source": [
    "#Carregando do arquivo para não precisar tratar toda vez\n",
    "df_enem = pd.read_parquet(\"../data/treated/df_enem.parquet\")\n",
    "df_enem_al_presence_full = pd.read_parquet(\"../data/treated/df_enem_al_presence_full.parquet\")"
   ]
  },
  {
   "cell_type": "markdown",
   "metadata": {},
   "source": [
    "## Exploração dos Dados Gerais"
   ]
  },
  {
   "cell_type": "code",
   "execution_count": 26,
   "metadata": {},
   "outputs": [
    {
     "data": {
      "text/plain": [
       "(3933955, 76)"
      ]
     },
     "execution_count": 26,
     "metadata": {},
     "output_type": "execute_result"
    }
   ],
   "source": [
    "#Tamanho da base\n",
    "df_enem.shape"
   ]
  },
  {
   "cell_type": "code",
   "execution_count": 55,
   "metadata": {},
   "outputs": [
    {
     "data": {
      "text/html": [
       "<div>\n",
       "<style scoped>\n",
       "    .dataframe tbody tr th:only-of-type {\n",
       "        vertical-align: middle;\n",
       "    }\n",
       "\n",
       "    .dataframe tbody tr th {\n",
       "        vertical-align: top;\n",
       "    }\n",
       "\n",
       "    .dataframe thead th {\n",
       "        text-align: right;\n",
       "    }\n",
       "</style>\n",
       "<table border=\"1\" class=\"dataframe\">\n",
       "  <thead>\n",
       "    <tr style=\"text-align: right;\">\n",
       "      <th></th>\n",
       "      <th>NU_INSCRICAO</th>\n",
       "      <th>NU_ANO</th>\n",
       "      <th>TP_FAIXA_ETARIA</th>\n",
       "      <th>TP_SEXO</th>\n",
       "      <th>TP_ESTADO_CIVIL</th>\n",
       "      <th>TP_COR_RACA</th>\n",
       "      <th>TP_NACIONALIDADE</th>\n",
       "      <th>TP_ST_CONCLUSAO</th>\n",
       "      <th>TP_ANO_CONCLUIU</th>\n",
       "      <th>TP_ESCOLA</th>\n",
       "      <th>...</th>\n",
       "      <th>Q016</th>\n",
       "      <th>Q017</th>\n",
       "      <th>Q018</th>\n",
       "      <th>Q019</th>\n",
       "      <th>Q020</th>\n",
       "      <th>Q021</th>\n",
       "      <th>Q022</th>\n",
       "      <th>Q023</th>\n",
       "      <th>Q024</th>\n",
       "      <th>Q025</th>\n",
       "    </tr>\n",
       "  </thead>\n",
       "  <tbody>\n",
       "    <tr>\n",
       "      <th>0</th>\n",
       "      <td>210059085136</td>\n",
       "      <td>2023</td>\n",
       "      <td>14</td>\n",
       "      <td>M</td>\n",
       "      <td>2</td>\n",
       "      <td>1</td>\n",
       "      <td>1</td>\n",
       "      <td>1</td>\n",
       "      <td>17</td>\n",
       "      <td>1</td>\n",
       "      <td>...</td>\n",
       "      <td>C</td>\n",
       "      <td>C</td>\n",
       "      <td>B</td>\n",
       "      <td>B</td>\n",
       "      <td>A</td>\n",
       "      <td>B</td>\n",
       "      <td>B</td>\n",
       "      <td>A</td>\n",
       "      <td>A</td>\n",
       "      <td>B</td>\n",
       "    </tr>\n",
       "    <tr>\n",
       "      <th>1</th>\n",
       "      <td>210059527735</td>\n",
       "      <td>2023</td>\n",
       "      <td>12</td>\n",
       "      <td>M</td>\n",
       "      <td>2</td>\n",
       "      <td>1</td>\n",
       "      <td>0</td>\n",
       "      <td>1</td>\n",
       "      <td>16</td>\n",
       "      <td>1</td>\n",
       "      <td>...</td>\n",
       "      <td>B</td>\n",
       "      <td>A</td>\n",
       "      <td>B</td>\n",
       "      <td>B</td>\n",
       "      <td>A</td>\n",
       "      <td>A</td>\n",
       "      <td>C</td>\n",
       "      <td>A</td>\n",
       "      <td>D</td>\n",
       "      <td>B</td>\n",
       "    </tr>\n",
       "    <tr>\n",
       "      <th>2</th>\n",
       "      <td>210061103945</td>\n",
       "      <td>2023</td>\n",
       "      <td>6</td>\n",
       "      <td>F</td>\n",
       "      <td>1</td>\n",
       "      <td>1</td>\n",
       "      <td>1</td>\n",
       "      <td>1</td>\n",
       "      <td>0</td>\n",
       "      <td>1</td>\n",
       "      <td>...</td>\n",
       "      <td>B</td>\n",
       "      <td>A</td>\n",
       "      <td>A</td>\n",
       "      <td>B</td>\n",
       "      <td>A</td>\n",
       "      <td>A</td>\n",
       "      <td>A</td>\n",
       "      <td>A</td>\n",
       "      <td>A</td>\n",
       "      <td>B</td>\n",
       "    </tr>\n",
       "    <tr>\n",
       "      <th>3</th>\n",
       "      <td>210060214087</td>\n",
       "      <td>2023</td>\n",
       "      <td>2</td>\n",
       "      <td>F</td>\n",
       "      <td>1</td>\n",
       "      <td>3</td>\n",
       "      <td>1</td>\n",
       "      <td>2</td>\n",
       "      <td>0</td>\n",
       "      <td>2</td>\n",
       "      <td>...</td>\n",
       "      <td>A</td>\n",
       "      <td>A</td>\n",
       "      <td>A</td>\n",
       "      <td>B</td>\n",
       "      <td>A</td>\n",
       "      <td>A</td>\n",
       "      <td>D</td>\n",
       "      <td>A</td>\n",
       "      <td>A</td>\n",
       "      <td>B</td>\n",
       "    </tr>\n",
       "    <tr>\n",
       "      <th>4</th>\n",
       "      <td>210059980948</td>\n",
       "      <td>2023</td>\n",
       "      <td>3</td>\n",
       "      <td>F</td>\n",
       "      <td>1</td>\n",
       "      <td>3</td>\n",
       "      <td>1</td>\n",
       "      <td>2</td>\n",
       "      <td>0</td>\n",
       "      <td>2</td>\n",
       "      <td>...</td>\n",
       "      <td>A</td>\n",
       "      <td>A</td>\n",
       "      <td>A</td>\n",
       "      <td>B</td>\n",
       "      <td>A</td>\n",
       "      <td>A</td>\n",
       "      <td>B</td>\n",
       "      <td>A</td>\n",
       "      <td>A</td>\n",
       "      <td>A</td>\n",
       "    </tr>\n",
       "  </tbody>\n",
       "</table>\n",
       "<p>5 rows × 76 columns</p>\n",
       "</div>"
      ],
      "text/plain": [
       "   NU_INSCRICAO  NU_ANO  TP_FAIXA_ETARIA TP_SEXO  TP_ESTADO_CIVIL  \\\n",
       "0  210059085136    2023               14       M                2   \n",
       "1  210059527735    2023               12       M                2   \n",
       "2  210061103945    2023                6       F                1   \n",
       "3  210060214087    2023                2       F                1   \n",
       "4  210059980948    2023                3       F                1   \n",
       "\n",
       "   TP_COR_RACA  TP_NACIONALIDADE  TP_ST_CONCLUSAO  TP_ANO_CONCLUIU  TP_ESCOLA  \\\n",
       "0            1                 1                1               17          1   \n",
       "1            1                 0                1               16          1   \n",
       "2            1                 1                1                0          1   \n",
       "3            3                 1                2                0          2   \n",
       "4            3                 1                2                0          2   \n",
       "\n",
       "   ...  Q016  Q017  Q018 Q019  Q020 Q021  Q022  Q023  Q024  Q025  \n",
       "0  ...     C     C     B    B     A    B     B     A     A     B  \n",
       "1  ...     B     A     B    B     A    A     C     A     D     B  \n",
       "2  ...     B     A     A    B     A    A     A     A     A     B  \n",
       "3  ...     A     A     A    B     A    A     D     A     A     B  \n",
       "4  ...     A     A     A    B     A    A     B     A     A     A  \n",
       "\n",
       "[5 rows x 76 columns]"
      ]
     },
     "execution_count": 55,
     "metadata": {},
     "output_type": "execute_result"
    }
   ],
   "source": [
    "#Mostrando primeiras linhas\n",
    "df_enem.head()"
   ]
  },
  {
   "cell_type": "markdown",
   "metadata": {},
   "source": [
    "## Filtro para Inscritos Presentes e Exclusão de Colunas Desnecessárias"
   ]
  },
  {
   "cell_type": "markdown",
   "metadata": {},
   "source": [
    "Retirando os alunos que faltaram a prova e aguardando em outro objeto"
   ]
  },
  {
   "cell_type": "code",
   "execution_count": 9,
   "metadata": {},
   "outputs": [],
   "source": [
    "filter_al_presence = (df_enem['TP_PRESENCA_CN']== 1) & (df_enem['TP_PRESENCA_CH'] == 1) & (df_enem['TP_PRESENCA_LC'] == 1) & (df_enem['TP_PRESENCA_MT'] == 1)\n",
    "\n",
    "df_enem_al_presence_full = df_enem[(filter_al_presence)]"
   ]
  },
  {
   "cell_type": "markdown",
   "metadata": {},
   "source": [
    "Tamanho da base após retirada de faltantes"
   ]
  },
  {
   "cell_type": "code",
   "execution_count": 59,
   "metadata": {},
   "outputs": [
    {
     "data": {
      "text/plain": [
       "(2678264, 76)"
      ]
     },
     "execution_count": 59,
     "metadata": {},
     "output_type": "execute_result"
    }
   ],
   "source": [
    "df_enem_al_presence_full.shape"
   ]
  },
  {
   "cell_type": "markdown",
   "metadata": {},
   "source": [
    "Retirando colunas desnecessárias"
   ]
  },
  {
   "cell_type": "code",
   "execution_count": null,
   "metadata": {},
   "outputs": [],
   "source": [
    "colums_drop = ['TP_PRESENCA_CN',\n",
    "'TP_PRESENCA_CH',\n",
    "'TP_PRESENCA_LC',\n",
    "'TP_PRESENCA_MT',\n",
    "'CO_PROVA_CH',\n",
    "'CO_PROVA_LC',\n",
    "'CO_PROVA_MT',\n",
    "'TX_RESPOSTAS_CN',\n",
    "'TX_RESPOSTAS_CH',\n",
    "'TX_RESPOSTAS_LC',\n",
    "'TX_RESPOSTAS_MT',\n",
    "'TX_GABARITO_CN',\n",
    "'TX_GABARITO_CH',\n",
    "'TX_GABARITO_LC',\n",
    "'TX_GABARITO_MT',\n",
    "'CO_MUNICIPIO_ESC',\n",
    "'CO_UF_ESC',\n",
    "'NU_ANO',\n",
    "'CO_MUNICIPIO_PROVA',\n",
    "'CO_UF_PROVA']\n",
    "\n",
    "#Removendo colunas\n",
    "\n",
    "df_enem_al_presence_full.drop(columns=colums_drop, inplace=True)\n"
   ]
  },
  {
   "cell_type": "code",
   "execution_count": null,
   "metadata": {},
   "outputs": [],
   "source": [
    "#Salvando df_enem_al_presence_full para não precisaer tratar toda vez\n",
    "df_enem_al_presence_full.to_parquet(\"../data/treated/df_enem_al_presence_full.parquet\")"
   ]
  },
  {
   "cell_type": "markdown",
   "metadata": {},
   "source": [
    "Salvando dataframe para uso posterior"
   ]
  },
  {
   "cell_type": "code",
   "execution_count": 74,
   "metadata": {},
   "outputs": [],
   "source": [
    "df_enem_al_presence_full.to_parquet(\"../data/treated/df_enem_al_presence_full.parquet\")"
   ]
  },
  {
   "cell_type": "markdown",
   "metadata": {},
   "source": [
    "## Exploração do df_enem_al_presence_full"
   ]
  },
  {
   "cell_type": "markdown",
   "metadata": {},
   "source": [
    "Tipo de Nacionalidade"
   ]
  },
  {
   "cell_type": "code",
   "execution_count": 64,
   "metadata": {},
   "outputs": [
    {
     "data": {
      "text/plain": [
       "TP_NACIONALIDADE\n",
       "1    2618387\n",
       "2      47606\n",
       "4       6337\n",
       "3       4690\n",
       "0       1244\n",
       "Name: count, dtype: int64"
      ]
     },
     "execution_count": 64,
     "metadata": {},
     "output_type": "execute_result"
    }
   ],
   "source": [
    "# 1\tBrasileiro(a)\n",
    "# 2\tBrasileiro(a) Naturalizado(a)\n",
    "# 3\tEstrangeiro(a)\n",
    "# 4\tBrasileiro(a) Nato(a), nascido(a) no exterior\n",
    "\n",
    "\n",
    "df_enem_al_presence_full['TP_NACIONALIDADE'].value_counts()"
   ]
  },
  {
   "cell_type": "markdown",
   "metadata": {},
   "source": [
    "Qual é a distribuição por sexo?"
   ]
  },
  {
   "cell_type": "code",
   "execution_count": 68,
   "metadata": {},
   "outputs": [
    {
     "data": {
      "text/plain": [
       "TP_SEXO\n",
       "F    1644046\n",
       "M    1034218\n",
       "Name: count, dtype: int64"
      ]
     },
     "execution_count": 68,
     "metadata": {},
     "output_type": "execute_result"
    }
   ],
   "source": [
    "df_enem_al_presence_full['TP_SEXO'].value_counts()"
   ]
  },
  {
   "cell_type": "markdown",
   "metadata": {},
   "source": [
    "Região das escolas"
   ]
  },
  {
   "cell_type": "code",
   "execution_count": 59,
   "metadata": {},
   "outputs": [
    {
     "data": {
      "text/plain": [
       "TP_LOCALIZACAO_ESC\n",
       "1.0    697117\n",
       "2.0     24312\n",
       "Name: count, dtype: int64"
      ]
     },
     "execution_count": 59,
     "metadata": {},
     "output_type": "execute_result"
    }
   ],
   "source": [
    "# 1 = Urbana, 2 = Rural\n",
    "df_enem_al_presence_full['TP_LOCALIZACAO_ESC'].value_counts()"
   ]
  },
  {
   "cell_type": "markdown",
   "metadata": {},
   "source": [
    "Tipo da escola"
   ]
  },
  {
   "cell_type": "code",
   "execution_count": 60,
   "metadata": {},
   "outputs": [
    {
     "data": {
      "text/plain": [
       "TP_DEPENDENCIA_ADM_ESC\n",
       "1.0     43946\n",
       "2.0    456911\n",
       "3.0      5832\n",
       "4.0    214740\n",
       "Name: count, dtype: int64"
      ]
     },
     "execution_count": 60,
     "metadata": {},
     "output_type": "execute_result"
    }
   ],
   "source": [
    "# 1\tFederal\n",
    "# 2\tEstadual\n",
    "# 3\tMunicipal\n",
    "# 4\tPrivada\n",
    "\n",
    "df_enem_al_presence_full['TP_DEPENDENCIA_ADM_ESC'].value_counts().sort_index()"
   ]
  },
  {
   "cell_type": "markdown",
   "metadata": {},
   "source": [
    "Contagem de pessoas pro ano de conclusão"
   ]
  },
  {
   "cell_type": "code",
   "execution_count": 62,
   "metadata": {},
   "outputs": [
    {
     "data": {
      "text/plain": [
       "TP_ANO_CONCLUIU\n",
       "0     1670514\n",
       "1      295560\n",
       "2      173707\n",
       "3       92873\n",
       "17      83542\n",
       "4       79430\n",
       "5       57522\n",
       "6       45525\n",
       "7       33974\n",
       "8       27645\n",
       "9       22841\n",
       "10      19441\n",
       "11      17155\n",
       "12      13869\n",
       "13      13074\n",
       "14      11580\n",
       "15      10167\n",
       "16       9845\n",
       "Name: count, dtype: int64"
      ]
     },
     "execution_count": 62,
     "metadata": {},
     "output_type": "execute_result"
    }
   ],
   "source": [
    "# 0\tNão informado\n",
    "# 1\t2022\n",
    "# 2\t2021\n",
    "# 3\t2020\n",
    "# 4\t2019\n",
    "# 5\t2018\n",
    "# 6\t2017\n",
    "# 7\t2016\n",
    "# 8\t2015\n",
    "# 9\t2014\n",
    "# 10\t2013\n",
    "# 11\t2012\n",
    "# 12\t2011\n",
    "# 13\t2010\n",
    "# 14\t2009\n",
    "# 15\t2008\n",
    "# 16\t2007\n",
    "# 17\tAntes de 2007\n",
    "\n",
    "df_enem_al_presence_full['TP_ANO_CONCLUIU'].value_counts()"
   ]
  },
  {
   "cell_type": "markdown",
   "metadata": {},
   "source": [
    "Quantos treineiros fizeram a prova de 2023?"
   ]
  },
  {
   "cell_type": "code",
   "execution_count": 65,
   "metadata": {},
   "outputs": [
    {
     "data": {
      "text/plain": [
       "IN_TREINEIRO\n",
       "0    2166843\n",
       "1     511421\n",
       "Name: count, dtype: int64"
      ]
     },
     "execution_count": 65,
     "metadata": {},
     "output_type": "execute_result"
    }
   ],
   "source": [
    "df_enem_al_presence_full['IN_TREINEIRO'].value_counts()"
   ]
  },
  {
   "cell_type": "markdown",
   "metadata": {},
   "source": [
    "Quantas provas foram aplicadas pro município?"
   ]
  },
  {
   "cell_type": "code",
   "execution_count": 66,
   "metadata": {},
   "outputs": [
    {
     "data": {
      "text/plain": [
       "SG_UF_PROVA\n",
       "SP    409480\n",
       "MG    250015\n",
       "BA    220257\n",
       "RJ    184502\n",
       "CE    173700\n",
       "PA    153293\n",
       "PE    152574\n",
       "PR    114776\n",
       "MA    112482\n",
       "RS    110735\n",
       "GO     96351\n",
       "PB     87603\n",
       "RN     72805\n",
       "PI     70761\n",
       "SC     62700\n",
       "AL     54953\n",
       "DF     50267\n",
       "ES     49235\n",
       "AM     47909\n",
       "SE     47189\n",
       "MT     41481\n",
       "MS     31239\n",
       "RO     22999\n",
       "TO     21612\n",
       "AP     18177\n",
       "AC     15099\n",
       "RR      6070\n",
       "Name: count, dtype: int64"
      ]
     },
     "execution_count": 66,
     "metadata": {},
     "output_type": "execute_result"
    }
   ],
   "source": [
    "df_enem_al_presence_full['SG_UF_PROVA'].value_counts()"
   ]
  },
  {
   "cell_type": "markdown",
   "metadata": {},
   "source": [
    "Quantos alunos por UF?"
   ]
  },
  {
   "cell_type": "code",
   "execution_count": 67,
   "metadata": {},
   "outputs": [
    {
     "data": {
      "text/plain": [
       "SG_UF_ESC\n",
       "SP    141339\n",
       "CE     74319\n",
       "MG     52837\n",
       "RJ     49406\n",
       "PR     39952\n",
       "BA     34957\n",
       "PE     34652\n",
       "RS     32073\n",
       "GO     28296\n",
       "PA     27971\n",
       "SC     23658\n",
       "MA     23505\n",
       "PB     18025\n",
       "DF     16819\n",
       "ES     16084\n",
       "AM     14634\n",
       "PI     14565\n",
       "RN     14420\n",
       "AL     13952\n",
       "MT     12279\n",
       "MS      9234\n",
       "SE      8455\n",
       "RO      7041\n",
       "TO      4987\n",
       "AP      3462\n",
       "AC      2920\n",
       "RR      1587\n",
       "Name: count, dtype: int64"
      ]
     },
     "execution_count": 67,
     "metadata": {},
     "output_type": "execute_result"
    }
   ],
   "source": [
    "df_enem_al_presence_full['SG_UF_ESC'].value_counts()"
   ]
  },
  {
   "cell_type": "markdown",
   "metadata": {},
   "source": [
    "Quais foram os tipos de provas aplicadas?"
   ]
  },
  {
   "cell_type": "code",
   "execution_count": 70,
   "metadata": {},
   "outputs": [
    {
     "data": {
      "text/plain": [
       "CO_PROVA_CN\n",
       "1223.0    671183\n",
       "1224.0    665869\n",
       "1222.0    665399\n",
       "1221.0    664706\n",
       "1225.0      3306\n",
       "1303.0      1304\n",
       "1304.0      1295\n",
       "1302.0      1290\n",
       "1301.0      1289\n",
       "1229.0      1199\n",
       "1228.0       663\n",
       "1226.0       641\n",
       "1227.0       120\n",
       "Name: count, dtype: int64"
      ]
     },
     "execution_count": 70,
     "metadata": {},
     "output_type": "execute_result"
    }
   ],
   "source": [
    "# 1221\tAzul\n",
    "# 1222\tAmarela\n",
    "# 1223\tRosa\n",
    "# 1224\tCinza\n",
    "# 1225\tRosa - Ampliada\n",
    "# 1226\tRosa - Superampliada\n",
    "# 1227\tLaranja - Braile\n",
    "# 1228\tLaranja - Adaptada Ledor\n",
    "# 1229\tVerde - Videoprova - Libras\n",
    "# 1301\tAzul (Reaplicação)\n",
    "# 1302\tAmarela (Reaplicação)\n",
    "# 1303\tCinza (Reaplicação)\n",
    "# 1304\tRosa (Reaplicação)\n",
    "\n",
    "df_enem_al_presence_full['CO_PROVA_CN'].value_counts()"
   ]
  },
  {
   "cell_type": "markdown",
   "metadata": {},
   "source": [
    "## Salvando Insights para Melhorar Desempenho do APP"
   ]
  },
  {
   "cell_type": "code",
   "execution_count": 38,
   "metadata": {},
   "outputs": [],
   "source": [
    "#Armazeando dados principais para exibir no Web APP\n",
    "\n",
    "metrics_of_inscription = []\n",
    "\n",
    "metrics_of_inscription.append({'Total de inscritos': df_enem.shape[0],\n",
    "                               'Total de inscritos presentes': df_enem_al_presence_full.shape[0],\n",
    "                               'Total de inscritos ausentes': df_enem.shape[0] - df_enem_al_presence_full.shape[0],\n",
    "                               'Total de treineiros inscritos': df_enem['IN_TREINEIRO'].value_counts()[1],\n",
    "                               'Total de Mulheres inscritas': df_enem['TP_SEXO'].value_counts()['F'],\n",
    "                                'Total de Homens inscritos': df_enem['TP_SEXO'].value_counts()['M'],\n",
    "                                'Total de Provas Aplicadas por UF': df_enem_al_presence_full['SG_UF_PROVA'].value_counts().to_dict(),\n",
    "                               })"
   ]
  },
  {
   "cell_type": "code",
   "execution_count": 39,
   "metadata": {},
   "outputs": [],
   "source": [
    "df_metrics_inscription = pd.DataFrame(metrics_of_inscription)\n",
    "df_metrics_inscription.to_parquet(\"../data/analysis/df_metrics_inscription.parquet\")"
   ]
  },
  {
   "cell_type": "code",
   "execution_count": null,
   "metadata": {},
   "outputs": [],
   "source": [
    "ufs_dict = df_metrics_inscription['Total de Provas Aplicadas por UF'][0]\n",
    "df_ufs = pd.DataFrame(list(ufs_dict.items()),columns = ['UF','Total de Provas Aplicadas'])"
   ]
  },
  {
   "cell_type": "markdown",
   "metadata": {},
   "source": [
    "### Capturando Inscritos e Presentes por Região e UF"
   ]
  },
  {
   "cell_type": "code",
   "execution_count": 5,
   "metadata": {},
   "outputs": [],
   "source": [
    "from collections import Counter"
   ]
  },
  {
   "cell_type": "code",
   "execution_count": 6,
   "metadata": {},
   "outputs": [],
   "source": [
    "def states_region(type_df, list_ufs = None, df_uf_region_default = None):\n",
    "    if type_df not in ['presentes','inscritos']:\n",
    "        raise ValueError('type_df deve ser \"presentes\" ou \"inscritos\"')\n",
    "    \n",
    "    elif type_df == 'presentes' and df_uf_region_default is None:\n",
    "        raise ValueError('Para type_df = \"presentes\" é necessário informar o dataframe com região e total de inscritos por UF')\n",
    "\n",
    "    dict_states_regiao = {\n",
    "    \"AC\":\"Norte\",\n",
    "    \"AL\":\"Nordeste\",\n",
    "    \"AP\":\"Norte\",\n",
    "    \"AM\":\"Norte\",\n",
    "    \"BA\":\"Nordeste\",\n",
    "    \"CE\":\"Nordeste\",\n",
    "    \"DF\":\"Centro-Oeste\",\n",
    "    \"ES\":\"Sudeste\",\n",
    "    \"GO\":\"Centro-Oeste\",\n",
    "    \"MA\":\"Nordeste\",\n",
    "    \"MT\":\"Centro-Oeste\",\n",
    "    \"MS\":\"Centro-Oeste\",\n",
    "    \"MG\":\"Sudeste\",\n",
    "    \"PA\":\"Norte\",\n",
    "    \"PB\":\"Nordeste\",\n",
    "    \"PR\":\"Sul\",\n",
    "    \"PE\":\"Nordeste\",\n",
    "    \"PI\":\"Nordeste\",\n",
    "    \"RJ\":\"Sudeste\",\n",
    "    \"RN\":\"Nordeste\",\n",
    "    \"RS\":\"Sul\",\n",
    "    \"RO\":\"Norte\",\n",
    "    \"RR\":\"Norte\",\n",
    "    \"SC\":\"Sul\",\n",
    "    \"SP\":\"Sudeste\",\n",
    "    \"SE\":\"Nordeste\",\n",
    "    \"TO\":\"Norte\"}\n",
    "    if type_df == 'presentes':\n",
    "        df_uf_region_presen =  pd.DataFrame(Counter(list_ufs).items(),columns = ['UF','Total Presentes'])\n",
    "        return df_uf_region_presen\n",
    "    \n",
    "    elif type_df == 'inscritos':\n",
    "        df_uf_region =  pd.DataFrame(Counter(list_ufs).items(),columns = ['UF','Total Inscritos'])\n",
    "        df_uf_region['Regiao'] = df_uf_region['UF'].map(dict_states_regiao)\n",
    "        return df_uf_region \n"
   ]
  },
  {
   "cell_type": "code",
   "execution_count": 7,
   "metadata": {},
   "outputs": [],
   "source": [
    "def presence_percent(df_t):\n",
    "    df_t['Percentual de Presentes'] = ((df_t['Total Presentes'] / df_t['Total Inscritos']) * 100).round(2)\n",
    "    return df_t"
   ]
  },
  {
   "cell_type": "code",
   "execution_count": 8,
   "metadata": {},
   "outputs": [],
   "source": [
    "def presence_sex_state(df_sx):\n",
    "   list_insert = []\n",
    "   for uf in df_sx['SG_UF_PROVA'].unique():\n",
    "       list_insert.append({'UF':uf,\n",
    "                           'Total Mulheres Presentes': df_sx['TP_SEXO'].groupby(df_sx['SG_UF_PROVA']).value_counts()[uf]['F'],\n",
    "                           'Total Homens Presentes': df_sx['TP_SEXO'].groupby(df_sx['SG_UF_PROVA']).value_counts()[uf]['M']})\n",
    "   df_insert = pd.DataFrame(list_insert) \n",
    "    \n",
    "   return df_insert\n",
    "        "
   ]
  },
  {
   "cell_type": "code",
   "execution_count": 9,
   "metadata": {},
   "outputs": [],
   "source": [
    "def full_sex_state(df_sx_full):\n",
    "   list_insert_full = []\n",
    "   for uf in df_sx_full['SG_UF_PROVA'].unique():\n",
    "       list_insert_full.append({'UF':uf,\n",
    "                           'Total Mulheres Inscritas': df_sx_full['TP_SEXO'].groupby(df_sx_full['SG_UF_PROVA']).value_counts()[uf]['F'],\n",
    "                           'Total Homens Inscritos': df_sx_full['TP_SEXO'].groupby(df_sx_full['SG_UF_PROVA']).value_counts()[uf]['M']})\n",
    "   df_insert_full = pd.DataFrame(list_insert_full) \n",
    "    \n",
    "   return df_insert_full"
   ]
  },
  {
   "cell_type": "code",
   "execution_count": 10,
   "metadata": {},
   "outputs": [],
   "source": [
    "def full_states_race(df_proc):\n",
    "    list_insert_full_race = []\n",
    "    for uf in df_proc['SG_UF_PROVA'].unique():\n",
    "        list_insert_full_race.append({\n",
    "            'UF':uf,\n",
    "            'Total Inscritos Raça Não Declarada': df_proc['TP_COR_RACA'].groupby(df_proc['SG_UF_PROVA']).value_counts()[uf][0],\n",
    "            'Total Inscritos Raça Branca': df_proc['TP_COR_RACA'].groupby(df_proc['SG_UF_PROVA']).value_counts()[uf][1],\n",
    "            'Total Inscritos Raça Preta': df_proc['TP_COR_RACA'].groupby(df_proc['SG_UF_PROVA']).value_counts()[uf][2],\n",
    "            'Total Inscritos Raça Parda': df_proc['TP_COR_RACA'].groupby(df_proc['SG_UF_PROVA']).value_counts()[uf][3],\n",
    "            'Total Inscritos Raça Amarela': df_proc['TP_COR_RACA'].groupby(df_proc['SG_UF_PROVA']).value_counts()[uf][4],\n",
    "            'Total Inscritos Raça Indígena': df_proc['TP_COR_RACA'].groupby(df_proc['SG_UF_PROVA']).value_counts()[uf][5],\n",
    "            #'Total Inscritos Raça Não dispõe da informação': df_proc['TP_COR_RACA'].groupby(df_proc['SG_UF_PROVA']).value_counts()[uf][6]\n",
    "        })\n",
    "    df_insert = pd.DataFrame(list_insert_full_race)\n",
    "    return df_insert\n"
   ]
  },
  {
   "cell_type": "code",
   "execution_count": 11,
   "metadata": {},
   "outputs": [],
   "source": [
    "def get_age_group(age_group, uf, cod_age):\n",
    "    try:\n",
    "        return age_group[uf][cod_age]\n",
    "    except (IndexError, KeyError):\n",
    "        return 0"
   ]
  },
  {
   "cell_type": "code",
   "execution_count": 12,
   "metadata": {},
   "outputs": [],
   "source": [
    "def subscribe_age(df_full):\n",
    "    list_insert_full_age = []\n",
    "    age_group = df_full['TP_FAIXA_ETARIA'].groupby(df_full['SG_UF_PROVA']).value_counts()\n",
    "\n",
    "    for uf in df_full['SG_UF_PROVA'].unique():\n",
    "        list_insert_full_age.append({\n",
    "            'UF':uf,\n",
    "            'Inscritos menores de 17 anos': get_age_group(age_group, uf, 1),\n",
    "            'Inscritos com 17 anos': get_age_group(age_group, uf, 2),\n",
    "            'Inscritos com 18 anos': get_age_group(age_group, uf, 3),\n",
    "            'Inscritos com 19 anos': get_age_group(age_group, uf, 4),\n",
    "            'Inscritos com 20 anos': get_age_group(age_group, uf, 5),\n",
    "            'Inscritos com 21 anos': get_age_group(age_group, uf, 6),\n",
    "            'Inscritos com 22 anos': get_age_group(age_group, uf, 7),\n",
    "            'Inscritos com 23 anos': get_age_group(age_group, uf, 8),\n",
    "            'Inscritos com 24 anos': get_age_group(age_group, uf, 9),\n",
    "            'Inscritos com 25 anos': get_age_group(age_group, uf, 10),\n",
    "            'Inscritos entre 26 e 30 anos': get_age_group(age_group, uf, 11),\n",
    "            'Inscritos entre 31 e 35 anos': get_age_group(age_group, uf, 12),\n",
    "            'Inscritos entre 36 e 40 anos': get_age_group(age_group, uf, 13),\n",
    "            'Inscritos entre 41 e 45 anos': get_age_group(age_group, uf, 14),\n",
    "            'Inscritos entre 46 e 50 anos': get_age_group(age_group, uf, 15),\n",
    "            'Inscritos entre 51 e 55 anos': get_age_group(age_group, uf, 16),\n",
    "            'Inscritos entre 56 e 60 anos': get_age_group(age_group, uf, 17),\n",
    "            'Inscritos entre 61 e 65 anos': get_age_group(age_group, uf, 18),\n",
    "            'Inscritos entre 66 e 70 anos': get_age_group(age_group, uf, 19),\n",
    "            'Inscritos maiores de 70 anos': get_age_group(age_group, uf, 20),\n",
    "            \n",
    "        })\n",
    "\n",
    "    df_created = pd.DataFrame(list_insert_full_age)\n",
    "    return df_created\n",
    "            "
   ]
  },
  {
   "cell_type": "code",
   "execution_count": 13,
   "metadata": {},
   "outputs": [],
   "source": [
    "def trated_nacionality(nacionality,uf,cod_nac):\n",
    "    try:\n",
    "        return nacionality[uf][cod_nac]\n",
    "    except (IndexError, KeyError):\n",
    "        return 0"
   ]
  },
  {
   "cell_type": "code",
   "execution_count": 14,
   "metadata": {},
   "outputs": [],
   "source": [
    "def nationality(df_full):\n",
    "    list_insert_nacio = []\n",
    "    nacionality = df_full['TP_NACIONALIDADE'].groupby(df_full['SG_UF_PROVA']).value_counts()\n",
    "\n",
    "    for uf in df_full['SG_UF_PROVA'].unique():\n",
    "        list_insert_nacio.append({\n",
    "            'UF':uf,\n",
    "            'Inscritos Não Declarados': trated_nacionality(nacionality,uf,0),\n",
    "            'Inscritos Brasileiros':  trated_nacionality(nacionality,uf,1),\n",
    "            'Inscritos Brasileiros Naturalizados':  trated_nacionality(nacionality,uf,2),\n",
    "            'Inscritos Estrangeiros':  trated_nacionality(nacionality,uf,3),\n",
    "            'Inscritos Brasileiros Natos Nascidos no Exterior':  trated_nacionality(nacionality,uf,4),\n",
    "\n",
    "        })\n",
    "    df_created_nacionality = pd.DataFrame(list_insert_nacio)\n",
    "    return df_created_nacionality"
   ]
  },
  {
   "cell_type": "code",
   "execution_count": 15,
   "metadata": {},
   "outputs": [],
   "source": [
    "#Gerando DataFrame com total de inscritos por região\n",
    "df_uf_region_full = states_region(list_ufs=df_enem['SG_UF_PROVA'],type_df='inscritos')\n",
    "\n",
    "#Gerando DataFrame com total de presentes por região\n",
    "df_uf_region_presence = states_region(df_uf_region_default = df_uf_region_full,list_ufs=df_enem_al_presence_full['SG_UF_PROVA'], type_df = 'presentes')\n",
    "\n",
    "#Unindo os DataFrames\n",
    "df_uf_region_full = df_uf_region_full.merge(df_uf_region_presence[['UF', 'Total Presentes']], on='UF', how='left')"
   ]
  },
  {
   "cell_type": "code",
   "execution_count": 16,
   "metadata": {},
   "outputs": [],
   "source": [
    "#Gerando DataFrame com total de inscritos por região e sexo\n",
    "df_uf_sex_full = full_sex_state(df_enem)\n",
    "\n",
    "#Unindo os DataFrames\n",
    "df_uf_region_full = df_uf_region_full.merge(df_uf_sex_full[['UF','Total Homens Inscritos', 'Total Mulheres Inscritas']], on='UF', how='left')\n"
   ]
  },
  {
   "cell_type": "code",
   "execution_count": 17,
   "metadata": {},
   "outputs": [],
   "source": [
    "#Gerando DataFrame com total de presença por região e sexo\n",
    "df_uf_sex = presence_sex_state(df_enem_al_presence_full)\n",
    "\n",
    "#Unindo os DataFrames\n",
    "df_uf_region_full = df_uf_region_full.merge(df_uf_sex[['UF',\n",
    "                                                       'Total Homens Presentes',\n",
    "                                                       'Total Mulheres Presentes',\n",
    "                                                       ]], on='UF', how='left')"
   ]
  },
  {
   "cell_type": "code",
   "execution_count": 18,
   "metadata": {},
   "outputs": [],
   "source": [
    "#Adicionando coluna de porcentagem de presentes\n",
    "df_uf_region_full = presence_percent(df_uf_region_full)"
   ]
  },
  {
   "cell_type": "code",
   "execution_count": 19,
   "metadata": {},
   "outputs": [],
   "source": [
    "#Gerando DataFrame com total de inscritos por região e raça\n",
    "df_uf_race_full = full_states_race(df_enem)\n",
    "\n",
    "#Unindo os DataFrames de raça com dataframe principal\n",
    "df_uf_region_full = df_uf_region_full.merge(df_uf_race_full[['UF',\n",
    "                                                             'Total Inscritos Raça Não Declarada',\n",
    "                                                             'Total Inscritos Raça Branca',\n",
    "                                                             'Total Inscritos Raça Preta',\n",
    "                                                             'Total Inscritos Raça Parda',\n",
    "                                                             'Total Inscritos Raça Amarela',\n",
    "                                                             'Total Inscritos Raça Indígena',\n",
    "                                                             ]], on='UF', how='left')"
   ]
  },
  {
   "cell_type": "code",
   "execution_count": 20,
   "metadata": {},
   "outputs": [],
   "source": [
    "#Gerando DataFrame com total de inscritos por região e faixa etária\n",
    "df_uf_age_full = subscribe_age(df_enem)"
   ]
  },
  {
   "cell_type": "code",
   "execution_count": 21,
   "metadata": {},
   "outputs": [],
   "source": [
    "#Unindo os DataFrames de faixa etária com dataframe principal\n",
    "df_uf_region_full = df_uf_region_full.merge(df_uf_age_full, on='UF', how='left')"
   ]
  },
  {
   "cell_type": "code",
   "execution_count": 22,
   "metadata": {},
   "outputs": [],
   "source": [
    "#Criando DataFrame de nacionalidade\n",
    "df_uf_nacionality_full = nationality(df_enem)"
   ]
  },
  {
   "cell_type": "code",
   "execution_count": 23,
   "metadata": {},
   "outputs": [],
   "source": [
    "#Unindo data frame de nacionalidade com dataframe principal\n",
    "df_uf_region_full = df_uf_region_full.merge(df_uf_nacionality_full, on='UF', how='left')\n"
   ]
  },
  {
   "cell_type": "code",
   "execution_count": 28,
   "metadata": {},
   "outputs": [],
   "source": [
    "df_uf_region_full.to_parquet(\"../data/analysis/df_uf_region_full.parquet\")"
   ]
  },
  {
   "cell_type": "code",
   "execution_count": 20,
   "metadata": {},
   "outputs": [
    {
     "data": {
      "text/plain": [
       "Index(['UF', 'Total Inscritos', 'Regiao', 'Total Presentes',\n",
       "       'Total Homens Inscritos', 'Total Mulheres Inscritas',\n",
       "       'Total Homens Presentes', 'Total Mulheres Presentes',\n",
       "       'Percentual de Presentes', 'Total Inscritos Raça Não Declarada',\n",
       "       'Total Inscritos Raça Branca', 'Total Inscritos Raça Preta',\n",
       "       'Total Inscritos Raça Parda', 'Total Inscritos Raça Amarela',\n",
       "       'Total Inscritos Raça Indígena', 'Inscritos menores de 17 anos',\n",
       "       'Inscritos com 17 anos', 'Inscritos com 18 anos',\n",
       "       'Inscritos com 19 anos', 'Inscritos com 20 anos',\n",
       "       'Inscritos com 21 anos', 'Inscritos com 22 anos',\n",
       "       'Inscritos com 23 anos', 'Inscritos com 24 anos',\n",
       "       'Inscritos com 25 anos', 'Inscritos entre 26 e 30 anos',\n",
       "       'Inscritos entre 31 e 35 anos', 'Inscritos entre 36 e 40 anos',\n",
       "       'Inscritos entre 41 e 45 anos', 'Inscritos entre 46 e 50 anos',\n",
       "       'Inscritos entre 51 e 55 anos', 'Inscritos entre 56 e 60 anos',\n",
       "       'Inscritos entre 61 e 65 anos', 'Inscritos entre 66 e 70 anos',\n",
       "       'Inscritos maiores de 70 anos', 'Inscritos Não Declarados',\n",
       "       'Inscritos Brasileiros', 'Inscritos Brasileiros Naturalizados',\n",
       "       'Inscritos Estrangeiros',\n",
       "       'Inscritos Brasileiros Natos Nascidos no Exterior'],\n",
       "      dtype='object')"
      ]
     },
     "execution_count": 20,
     "metadata": {},
     "output_type": "execute_result"
    }
   ],
   "source": [
    "df_uf_region_full.columns"
   ]
  },
  {
   "cell_type": "markdown",
   "metadata": {},
   "source": [
    "## Exploração sobre Dados de Desempenho"
   ]
  }
 ],
 "metadata": {
  "kernelspec": {
   "display_name": "3.12.4",
   "language": "python",
   "name": "python3"
  },
  "language_info": {
   "codemirror_mode": {
    "name": "ipython",
    "version": 3
   },
   "file_extension": ".py",
   "mimetype": "text/x-python",
   "name": "python",
   "nbconvert_exporter": "python",
   "pygments_lexer": "ipython3",
   "version": "3.12.4"
  }
 },
 "nbformat": 4,
 "nbformat_minor": 2
}
